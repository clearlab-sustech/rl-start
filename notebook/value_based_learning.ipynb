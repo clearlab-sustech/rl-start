{
 "cells": [
  {
   "cell_type": "markdown",
   "metadata": {},
   "source": [
    "# Value-based Learning Methods"
   ]
  },
  {
   "cell_type": "markdown",
   "metadata": {},
   "source": [
    "### 1. Q-Learning"
   ]
  },
  {
   "cell_type": "markdown",
   "metadata": {},
   "source": [
    "Update rule: $Q({s}_t, {a}_t) \\leftarrow Q({s}_t, {a}_t) + \\alpha \\left(r_t + \\gamma \\max_{{a}} Q({s}_t, {a}) - Q({s}_t, {a}_t)\\right)$\n",
    "\n",
    "~~~python\n",
    "    def train(self, num_episodes):\n",
    "        \n",
    "        for episode in range(num_episodes):\n",
    "            state = self.env.reset()\n",
    "            done = False\n",
    "            \n",
    "            while not done:\n",
    "                action = self.choose_action(state)\n",
    "                next_state, reward, done, _ = self.env.step(action)\n",
    "                \n",
    "                self.Q[state, action] += self.learning_rate * (reward + self.discount_factor * np.max(self.Q[next_state, :]) - self.Q[state, action])\n",
    "                \n",
    "                state = next_state\n",
    "\n",
    "            self.epsilon = max(self.epsilon * self.epsilon_decay, 0.01)\n",
    "~~~"
   ]
  },
  {
   "cell_type": "code",
   "execution_count": 1,
   "metadata": {},
   "outputs": [
    {
     "data": {
      "text/plain": [
       "array([[9.35247280e-01, 9.50990050e-01, 8.69988459e-01, 9.33521887e-01],\n",
       "       [9.29859777e-01, 0.00000000e+00, 5.19787217e-03, 2.06153569e-01],\n",
       "       [1.22640043e-01, 0.00000000e+00, 2.78610065e-08, 0.00000000e+00],\n",
       "       [5.34706186e-07, 0.00000000e+00, 0.00000000e+00, 0.00000000e+00],\n",
       "       [9.46705831e-01, 9.60596010e-01, 0.00000000e+00, 9.19128576e-01],\n",
       "       [0.00000000e+00, 0.00000000e+00, 0.00000000e+00, 0.00000000e+00],\n",
       "       [0.00000000e+00, 0.00000000e+00, 0.00000000e+00, 0.00000000e+00],\n",
       "       [0.00000000e+00, 0.00000000e+00, 0.00000000e+00, 0.00000000e+00],\n",
       "       [9.50486774e-01, 0.00000000e+00, 9.70299000e-01, 9.23475662e-01],\n",
       "       [9.46827467e-01, 9.80100000e-01, 9.58237247e-01, 0.00000000e+00],\n",
       "       [1.26197473e-01, 9.89758554e-01, 0.00000000e+00, 0.00000000e+00],\n",
       "       [0.00000000e+00, 0.00000000e+00, 0.00000000e+00, 0.00000000e+00],\n",
       "       [0.00000000e+00, 0.00000000e+00, 0.00000000e+00, 0.00000000e+00],\n",
       "       [0.00000000e+00, 9.77929235e-01, 9.90000000e-01, 9.59482756e-01],\n",
       "       [9.67969026e-01, 9.47954076e-01, 1.00000000e+00, 9.48261442e-01],\n",
       "       [0.00000000e+00, 0.00000000e+00, 0.00000000e+00, 0.00000000e+00]])"
      ]
     },
     "execution_count": 1,
     "metadata": {},
     "output_type": "execute_result"
    }
   ],
   "source": [
    "from alg.q_learning import QLearning\n",
    "from env.frozen_lake_env import FrozenLakeEnv\n",
    "\n",
    "env = FrozenLakeEnv()\n",
    "\n",
    "num_episode = 10000\n",
    "\n",
    "alg = QLearning(env)\n",
    "alg.train(num_episode)\n",
    "alg.Q\n"
   ]
  },
  {
   "cell_type": "markdown",
   "metadata": {},
   "source": [
    "### 2. Deep Q-Learning"
   ]
  },
  {
   "cell_type": "markdown",
   "metadata": {},
   "source": [
    "Optimization objective: $\\min \\quad \\mathbb{E}_{({s}_t, {a}_t, r_t, {s}_{[t+1]}) \\sim \\mathcal{D}} \\left[r_t + \\gamma \\max_{{a}_{t+1}} Q^{(\\theta^{-})}({s}_{t+1}, {a}_{t+1}) -  Q^{(\\theta)}({s}_{t}, {a}_{t}) \\right]$"
   ]
  },
  {
   "cell_type": "markdown",
   "metadata": {},
   "source": [
    "#### 2.1 Define 2 networks\n",
    "\n",
    "~~~python\n",
    "    self.q_net = MLP(state_dim, self.action_dim, self.hidden_dim).to(device)\n",
    "    self.target_q_net = MLP(state_dim, self.action_dim, self.hidden_dim).to(device)\n",
    "~~~"
   ]
  },
  {
   "cell_type": "markdown",
   "metadata": {},
   "source": [
    "#### 2.2 Replay buffer\n",
    "\n",
    "~~~python\n",
    "    class ReplayBuffer:\n",
    "        \n",
    "        def __init__(self, capacity):\n",
    "            self.buffer = collections.deque(maxlen=capacity)\n",
    "\n",
    "        def add(self, state, action, reward, next_state, done):\n",
    "            self.buffer.append((state, action, reward, next_state, done))\n",
    "\n",
    "        def sample(self, batch_size):\n",
    "            transitions = random.sample(self.buffer, batch_size)\n",
    "            state, action, reward, next_state, done = zip(*transitions)\n",
    "            return np.array(state), action, reward, np.array(next_state), done\n",
    "\n",
    "        def size(self):\n",
    "            return len(self.buffer)\n",
    "~~~"
   ]
  },
  {
   "cell_type": "markdown",
   "metadata": {},
   "source": [
    "#### 2.3 Update Q-net\n",
    "\n",
    "Key notes:\n",
    "- Use TD target to optimize the Q-network.\n",
    "- Use a target network that is updated less frequently to store the previous estimation.\n",
    "\n",
    "\n",
    "~~~python\n",
    "    q_values = self.q_net(states).gather(1, actions)\n",
    "    max_next_q_values = self.target_q_net(next_states).max(1)[0].view(-1, 1)\n",
    "    td_targets = rewards + self.gamma * max_next_q_values * (1 - dones)\n",
    "    dqn_loss = torch.mean(F.mse_loss(q_values, q_targets))\n",
    "    self.optimizer.zero_grad()\n",
    "    dqn_loss.backward()\n",
    "    self.optimizer.step()\n",
    "\n",
    "    if self.count % self.target_update == 0:\n",
    "        self.target_q_net.load_state_dict(\n",
    "            self.q_net.state_dict())\n",
    "    self.count += 1\n",
    "~~~"
   ]
  }
 ],
 "metadata": {
  "kernelspec": {
   "display_name": "rlstart-env",
   "language": "python",
   "name": "python3"
  },
  "language_info": {
   "codemirror_mode": {
    "name": "ipython",
    "version": 3
   },
   "file_extension": ".py",
   "mimetype": "text/x-python",
   "name": "python",
   "nbconvert_exporter": "python",
   "pygments_lexer": "ipython3",
   "version": "3.12.5"
  }
 },
 "nbformat": 4,
 "nbformat_minor": 2
}
