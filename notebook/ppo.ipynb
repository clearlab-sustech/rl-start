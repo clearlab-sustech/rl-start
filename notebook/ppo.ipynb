{
 "cells": [
  {
   "cell_type": "code",
   "execution_count": 1,
   "metadata": {},
   "outputs": [],
   "source": [
    "%matplotlib inline\n",
    "\n",
    "import gym\n",
    "import torch\n",
    "import torch.nn.functional as F\n",
    "import numpy as np\n",
    "import matplotlib.pyplot as plt\n",
    "import utils.rl_utils as rl_utils\n",
    "\n",
    "from alg.ppo import PPO"
   ]
  },
  {
   "cell_type": "code",
   "execution_count": 2,
   "metadata": {},
   "outputs": [
    {
     "name": "stderr",
     "output_type": "stream",
     "text": [
      "/home/luohx/Software/anaconda/envs/python_38-pytorch_1.7.0/lib/python3.8/site-packages/gym/envs/registration.py:555: UserWarning: \u001b[33mWARN: The environment CartPole-v0 is out of date. You should consider upgrading to version `v1`.\u001b[0m\n",
      "  logger.warn(\n"
     ]
    }
   ],
   "source": [
    "env_name = \"CartPole-v0\"\n",
    "env = gym.make(\"CartPole-v0\")"
   ]
  },
  {
   "cell_type": "markdown",
   "metadata": {},
   "source": [
    "**Observation space**: The observation is a 4-dimensional vector $\\mathcal{S} \\in \\mathbb{R}^4$, where each element represents:\n",
    "- Cart position: $x \\in [-4.8, 4.8]$\n",
    "- Cart velocity: $\\dot{x} \\in (-\\infty, \\infty)$\n",
    "- Pole angle: $\\theta \\in [-24^\\circ, 24^\\circ]$\n",
    "- Pole angular velocity: $\\dot{\\theta} \\in (-\\infty, \\infty)$\n",
    "\n",
    "**Action space**: $a \\in \\{0, 1\\}$, indicating the direction to apply force on the cart. \n",
    "- $0$: Apply force to the left.\n",
    "- $1$: Apply force to the right.\n",
    "\n",
    "**Initial state**: The episode starts with the cart at the center of the track ($x = 0$), and the pole almost upright with small random values for the pole angle and velocity.\n",
    "\n",
    "**Termination of an episode**:\n",
    "- Case 1: The pole's angle $\\theta$ exceeds $24^\\circ$ from vertical.\n",
    "- Case 2: The cart's position $x$ exceeds $4.8$ units from the center.\n",
    "- Case 3: (Truncation) The episode reaches its maximum length of 200 timesteps.\n",
    "\n",
    "**Reward**: A reward of $+1$ is provided for every timestep the pole remains balanced, until one of the termination conditions is met."
   ]
  },
  {
   "cell_type": "markdown",
   "metadata": {},
   "source": [
    "<img src=\"./images/cart_pole.gif\" alt=\"cart_pole_env\" width=\"300\"/>"
   ]
  },
  {
   "cell_type": "code",
   "execution_count": 3,
   "metadata": {},
   "outputs": [
    {
     "name": "stderr",
     "output_type": "stream",
     "text": [
      "Iteration 0:   0%|          | 0/50 [00:00<?, ?it/s]/home/luohx/Project/rl-start/alg/ppo.py:61: UserWarning: Creating a tensor from a list of numpy.ndarrays is extremely slow. Please consider converting the list to a single numpy.ndarray with numpy.array() before converting to a tensor. (Triggered internally at ../torch/csrc/utils/tensor_new.cpp:245.)\n",
      "  state = torch.tensor([state], dtype=torch.float).to(self.device)\n",
      "Iteration 0: 100%|██████████| 50/50 [00:01<00:00, 26.18it/s, episode=50, return=173.500]\n",
      "Iteration 1: 100%|██████████| 50/50 [00:02<00:00, 20.46it/s, episode=100, return=143.700]\n",
      "Iteration 2: 100%|██████████| 50/50 [00:02<00:00, 18.65it/s, episode=150, return=184.500]\n",
      "Iteration 3: 100%|██████████| 50/50 [00:02<00:00, 18.03it/s, episode=200, return=200.000]\n",
      "Iteration 4: 100%|██████████| 50/50 [00:02<00:00, 18.32it/s, episode=250, return=200.000]\n",
      "Iteration 5: 100%|██████████| 50/50 [00:02<00:00, 18.39it/s, episode=300, return=200.000]\n",
      "Iteration 6: 100%|██████████| 50/50 [00:02<00:00, 17.78it/s, episode=350, return=200.000]\n",
      "Iteration 7: 100%|██████████| 50/50 [00:02<00:00, 18.67it/s, episode=400, return=186.400]\n",
      "Iteration 8: 100%|██████████| 50/50 [00:02<00:00, 18.48it/s, episode=450, return=200.000]\n",
      "Iteration 9: 100%|██████████| 50/50 [00:02<00:00, 18.20it/s, episode=500, return=189.500]\n"
     ]
    }
   ],
   "source": [
    "state_dim = env.observation_space.shape[0]\n",
    "action_dim = env.action_space.n\n",
    "\n",
    "actor_lr = 1e-3\n",
    "critic_lr = 1e-2\n",
    "num_episodes = 500\n",
    "hidden_dim = 128\n",
    "gamma = 0.98\n",
    "lmbda = 0.95\n",
    "epochs = 10\n",
    "eps = 0.2\n",
    "\n",
    "device = torch.device(\"cuda\") if torch.cuda.is_available() else torch.device(\"cpu\")\n",
    "\n",
    "agent = PPO(state_dim, hidden_dim, action_dim, actor_lr, critic_lr, lmbda, epochs, eps, gamma, device)\n",
    "\n",
    "return_list = rl_utils.train_on_policy_agent(env, agent, num_episodes)"
   ]
  },
  {
   "cell_type": "code",
   "execution_count": 4,
   "metadata": {},
   "outputs": [
    {
     "name": "stderr",
     "output_type": "stream",
     "text": [
      "/tmp/ipykernel_558670/1316342276.py:7: UserWarning: Matplotlib is currently using agg, which is a non-GUI backend, so cannot show the figure.\n",
      "  plt.show()\n"
     ]
    }
   ],
   "source": [
    "episodes_list = list(range(len(return_list)))\n",
    "mv_return = rl_utils.moving_average(return_list, 9)\n",
    "plt.plot(episodes_list, mv_return)\n",
    "plt.xlabel('Episodes')\n",
    "plt.ylabel('Returns')\n",
    "plt.title('PPO on {}'.format(env_name))\n",
    "plt.show()"
   ]
  },
  {
   "cell_type": "code",
   "execution_count": 5,
   "metadata": {},
   "outputs": [],
   "source": [
    "from IPython import display\n",
    "import PIL.Image\n",
    "\n",
    "\n",
    "def test_trained_policy(agent, env, num_episodes=5):\n",
    "    for i in range(num_episodes):\n",
    "        state, _ = env.reset()\n",
    "        if isinstance(state, tuple):\n",
    "            state = state[0]\n",
    "        done = False\n",
    "        episode_return = 0\n",
    "\n",
    "        while not done:\n",
    "            rgb_array = env.render()\n",
    "            img = PIL.Image.fromarray(rgb_array)\n",
    "            display.clear_output(wait=True)\n",
    "            display.display(img)\n",
    "\n",
    "            action = agent.take_action(state, eval=True)\n",
    "            next_state, reward, terminated, truncated, info = env.step(action)\n",
    "            done = terminated or truncated\n",
    "            if isinstance(next_state, tuple):\n",
    "                next_state = next_state[0]\n",
    "            state = next_state\n",
    "            episode_return += reward\n",
    "\n",
    "        print(f\"Episode {i + 1}, Return: {episode_return}\")\n",
    "\n",
    "    env.close()"
   ]
  },
  {
   "cell_type": "code",
   "execution_count": 6,
   "metadata": {},
   "outputs": [
    {
     "data": {
      "image/png": "[encoded data removed]",
      "text/plain": [
       "<PIL.Image.Image image mode=RGB size=600x400>"
      ]
     },
     "metadata": {},
     "output_type": "display_data"
    },
    {
     "name": "stdout",
     "output_type": "stream",
     "text": [
      "Episode 5, Return: 200.0\n"
     ]
    }
   ],
   "source": [
    "env = gym.make(\"CartPole-v0\", render_mode=\"rgb_array\")\n",
    "test_trained_policy(agent, env)"
   ]
  }
 ],
 "metadata": {
  "kernelspec": {
   "display_name": "python_38-pytorch_1.7.0",
   "language": "python",
   "name": "python3"
  },
  "language_info": {
   "codemirror_mode": {
    "name": "ipython",
    "version": 3
   },
   "file_extension": ".py",
   "mimetype": "text/x-python",
   "name": "python",
   "nbconvert_exporter": "python",
   "pygments_lexer": "ipython3",
   "version": "3.8.16"
  }
 },
 "nbformat": 4,
 "nbformat_minor": 2
}
